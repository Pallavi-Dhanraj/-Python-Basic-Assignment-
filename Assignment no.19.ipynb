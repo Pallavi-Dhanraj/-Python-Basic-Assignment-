{
 "cells": [
  {
   "cell_type": "markdown",
   "metadata": {},
   "source": [
    "Q1.Make a class called Thing with no contents and print it. Then, create an object called example from this class and also print    it. Are the printed values the same or different?"
   ]
  },
  {
   "cell_type": "code",
   "execution_count": null,
   "metadata": {},
   "outputs": [],
   "source": [
    "#sol1:\n",
    "class Thing:\n",
    "    pass \n",
    "print(Thing)\n",
    "class __main__Thing:\n",
    "    example = Thing()\n",
    "    print(example)\n",
    "#output:\n",
    "<class '__main__.Thing'>\n",
    "<__main__.Thing object at 0x000002556E0EBF10>"
   ]
  },
  {
   "cell_type": "markdown",
   "metadata": {},
   "source": [
    "Q2.Create a new class called Thing2 and add the value 'abc' to the letters class attribute. Letters should be printed."
   ]
  },
  {
   "cell_type": "code",
   "execution_count": null,
   "metadata": {},
   "outputs": [],
   "source": [
    "#sol2:\n",
    "class Thing2:\n",
    "    letters = 'abc'\n",
    "print(Thing2.letters)\n",
    "#output: \n",
    "abc"
   ]
  },
  {
   "cell_type": "markdown",
   "metadata": {},
   "source": [
    "Q3.Make yet another class called, of course, Thing3. This time, assign the value 'xyz' to an instance (object) attribute called    letters. Print letters. Do you need to make an object from the class to do this?"
   ]
  },
  {
   "cell_type": "code",
   "execution_count": null,
   "metadata": {},
   "outputs": [],
   "source": [
    "#sol3:\n",
    "class Thing3:\n",
    "    def __init__(self):\n",
    "        self.letters = 'xyz'\n",
    "something = Thing3()\n",
    "print(something.letters)\n",
    "#output:\n",
    "xyz"
   ]
  },
  {
   "cell_type": "markdown",
   "metadata": {},
   "source": [
    "Q4.Create an Element class with the instance attributes name, symbol, and number. Create a class object with the values            'Hydrogen,' 'H,' and 1."
   ]
  },
  {
   "cell_type": "code",
   "execution_count": null,
   "metadata": {},
   "outputs": [],
   "source": [
    "#sol4:\n",
    "class Element:\n",
    "    def __init__(self, name, symbol, number):\n",
    "        self.name = name\n",
    "        self.symbol = symbol\n",
    "        self.number = number\n",
    "object = Element('Hydrogen', 'H', 1)      "
   ]
  },
  {
   "cell_type": "markdown",
   "metadata": {},
   "source": [
    "Q5.Make a dictionary with these keys and values: 'name': 'Hydrogen', 'symbol': 'H', 'number': 1. Then, create an object called      hydrogen from class Element using this dictionary."
   ]
  },
  {
   "cell_type": "code",
   "execution_count": null,
   "metadata": {},
   "outputs": [],
   "source": [
    "#sol5:\n",
    "#creating dictionary\n",
    "el_dict = {'name': 'Hydrogen', 'symbol': 'H', 'number': 1}\n",
    "#creating an object\n",
    "hydrogen = Element(el_dict['name'], el_dict['symbol'], el_dict['number'])\n",
    "#checking\n",
    "hydrogen.name\n",
    "#output:\n",
    "'Hydrogen'"
   ]
  },
  {
   "cell_type": "markdown",
   "metadata": {},
   "source": [
    "Q6.For the Element class, define a method called dump() that prints the values of the object’s attributes (name, symbol, and        number).Create the hydrogen object from this new definition and use dump() to print its attributes."
   ]
  },
  {
   "cell_type": "code",
   "execution_count": null,
   "metadata": {},
   "outputs": [],
   "source": [
    "#sol6:\n",
    "class Element:\n",
    "    def __init__(self, name, symbol, number):\n",
    "        self.name = name\n",
    "        self.symbol = symbol\n",
    "        self.number = number\n",
    "        def dump(self):\n",
    "            print('name=%s, symbol=%s, number=%s' %(self.name, self.symbol, self.number))\n",
    "            hydrogen = Element(**el_dict)\n",
    "            hydrogen.dump()\n",
    "            name=Hydrogen, symbol=H, number=1"
   ]
  },
  {
   "cell_type": "markdown",
   "metadata": {},
   "source": [
    "Q7.Call print(hydrogen). In the definition of Element, change the name of method dump to __str__, create a new hydrogen object,    and call print(hydrogen) again."
   ]
  },
  {
   "cell_type": "code",
   "execution_count": null,
   "metadata": {},
   "outputs": [],
   "source": [
    "#sol7:\n",
    "print(hydrogen)\n",
    "#output:\n",
    "<__main__.Element object at 0x000002556E1DFCA0>\n",
    "class Element:\n",
    "    def __init__(self, name, symbol, number):\n",
    "        self.name = name\n",
    "        self.symbol = symbol\n",
    "        self.number = number\n",
    "        def __str__(self):\n",
    "            return ('name=%s, symbol=%s, number=%s' %\n",
    "                    (self.name, self.symbol, self.number))\n",
    "        hydrogen = Element(**el_dict)\n",
    "        print(hydrogen)\n",
    "#output : \n",
    "<__main__.Element object at 0x000002556E1DFCA0>"
   ]
  },
  {
   "cell_type": "markdown",
   "metadata": {},
   "source": [
    "Q8.Modify Element to make the attributes name, symbol, and number private. Define a getter property for each to return its          value."
   ]
  },
  {
   "cell_type": "code",
   "execution_count": null,
   "metadata": {},
   "outputs": [],
   "source": [
    "#sol8:\n",
    "class Element:\n",
    "        def __init__(self, name, symbol, number):\n",
    "            self.__name = name\n",
    "            self.__symbol = symbol\n",
    "            self.__number = number\n",
    "            @property\n",
    "            def name(self):\n",
    "                return self.__name\n",
    "            @property\n",
    "            def symbol(self):\n",
    "                return self.__symbol\n",
    "            @property\n",
    "            def number(self):\n",
    "                return self.__number\n",
    "            hydrogen = Element('Hydrogen', 'H', 1)\n",
    "#input:\n",
    "hydrogen.name\n",
    "#output:\n",
    "'Hydrogen'\n",
    "#input:\n",
    "hydrogen.symbol\n",
    "#output:\n",
    "'H'\n",
    "#input:\n",
    "hydrogen.number\n",
    "#output:\n",
    "1"
   ]
  },
  {
   "cell_type": "markdown",
   "metadata": {},
   "source": [
    "Q9.Define three classes: Bear, Rabbit, and Octothorpe. For each, define only one method: eats(). This should return 'berries'     (Bear), 'clover' (Rabbit), or 'campers' (Octothorpe). Create one object from each and print what it eats."
   ]
  },
  {
   "cell_type": "code",
   "execution_count": null,
   "metadata": {},
   "outputs": [],
   "source": [
    "#sol9:\n",
    "class Bear:\n",
    "    def eats(self):\n",
    "        return 'berries'\n",
    "class Rabbit:\n",
    "    def eats(self):\n",
    "        return 'clover'\n",
    "class Octothorpe:\n",
    "    def eats(self):\n",
    "        return 'campers'\n",
    "b = Bear()\n",
    "r = Rabbit()\n",
    "o = Octothorpe()\n",
    "# input:\n",
    "print(b.eats())\n",
    "#output:\n",
    "berries\n",
    "# input:\n",
    "print(r.eats())\n",
    "#output:\n",
    "clover\n",
    "# input:\n",
    "print(o.eats())\n",
    "#output:\n",
    "campers"
   ]
  },
  {
   "cell_type": "markdown",
   "metadata": {},
   "source": [
    "Q10.Define these classes: Laser, Claw, and SmartPhone. Each has only one method: does(). This returns 'disintegrate' (Laser),      'crush' (Claw), or 'ring' (SmartPhone). Then, define the class Robot that has one instance (object) of each of these. Define    a does() method for the Robot that prints what its component objects do."
   ]
  },
  {
   "cell_type": "code",
   "execution_count": null,
   "metadata": {},
   "outputs": [],
   "source": [
    "#sol10.\n",
    "class Laser:\n",
    "    def does(self):\n",
    "        return 'disintegrate'\n",
    "class Claw:\n",
    "    def does(self):\n",
    "        return 'crush'\n",
    "class SmartPhone:\n",
    "    def does(self):\n",
    "        return 'ring'\n",
    "class Robot:\n",
    "    def __init__(self):\n",
    "        self.laser = Laser()\n",
    "        self.claw = Claw()\n",
    "        self.smartphone = SmartPhone()\n",
    "    def does(self):\n",
    "        return '''I have many attachments:\n",
    "        My laser, to %s\n",
    "        My claw, to %s\n",
    "        My smartphone, to %s.''' %(\n",
    "            self.laser.does(),\n",
    "            self.claw.does(),\n",
    "            self.smartphone.does())\n",
    "    robbie = Robot()\n",
    "    print(robbie.does())\n",
    "        \n",
    "#output:       \n",
    "        I have many attachments:\n",
    "                My laser, to disintegrate\n",
    "                My claw, to crush\n",
    "                My smartphone, to ring.\n",
    "            "
   ]
  }
 ],
 "metadata": {
  "kernelspec": {
   "display_name": "Python 3",
   "language": "python",
   "name": "python3"
  },
  "language_info": {
   "codemirror_mode": {
    "name": "ipython",
    "version": 3
   },
   "file_extension": ".py",
   "mimetype": "text/x-python",
   "name": "python",
   "nbconvert_exporter": "python",
   "pygments_lexer": "ipython3",
   "version": "3.8.5"
  }
 },
 "nbformat": 4,
 "nbformat_minor": 4
}
