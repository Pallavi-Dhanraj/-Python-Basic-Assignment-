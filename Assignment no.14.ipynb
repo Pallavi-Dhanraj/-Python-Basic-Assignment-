{
 "cells": [
  {
   "cell_type": "markdown",
   "metadata": {},
   "source": [
    "Q1.What does RGBA stand for?"
   ]
  },
  {
   "cell_type": "markdown",
   "metadata": {},
   "source": [
    "sol.RGBA(Red-Green-Blue-Alpha)"
   ]
  },
  {
   "cell_type": "markdown",
   "metadata": {},
   "source": [
    "Q2.From the Pillow module, how do you get the RGBA value of any images?"
   ]
  },
  {
   "cell_type": "markdown",
   "metadata": {},
   "source": [
    "sol.In Pillow, RGBA values are represented by a tuple of four integer values.Pillow offers the ImageColor.getcolor() function       to get the RGBA values for the colors you want to use."
   ]
  },
  {
   "cell_type": "markdown",
   "metadata": {},
   "source": [
    "Q3.What is a box tuple, and how does it work?"
   ]
  },
  {
   "cell_type": "markdown",
   "metadata": {},
   "source": [
    "sol.The box tuple is a tuple of four integer coordinates that represent a rectangular region in an image. The four integers are,      in order, as follows:\n",
    "     Left:The x-coordinate of the leftmost edge of the box.\n",
    "     Top:The y-coordinate of the top edge of the box.\n",
    "     Right: The x-coordinate of one pixel to the right of the rightmost edge of the box. This integer must be greater than the        left integer.\n",
    "     Bottom:The y-coordinate of one pixel lower than the bottom edge of the box. This integer must be greater than the top            integer.\n",
    "     Note:the box includes the left and top coordinates and goes up to but does not include the right and bottom coordinates.        \n"
   ]
  },
  {
   "cell_type": "markdown",
   "metadata": {},
   "source": [
    "Q4.Use your image and load in notebook then, How can you find out the width and height of an Image object?"
   ]
  },
  {
   "cell_type": "markdown",
   "metadata": {},
   "source": [
    "sol.To load an image in notebook we can use the following code:\n",
    "    from PIL import Imageobjects.\n",
    "    Im = Image.open('file path')\n",
    "    we can use the object’s size attribute which contains a tuple of the image’s width and height in pixels to get the width and     height of an Image.\n",
    "    eg.Im.size"
   ]
  },
  {
   "cell_type": "markdown",
   "metadata": {},
   "source": [
    "Q5.What method would you call to get Image object for a 100×100 image, excluding the lower-left quarter of it?"
   ]
  },
  {
   "cell_type": "markdown",
   "metadata": {},
   "source": [
    "sol.im = Image.new('RGBA', (100, 100))"
   ]
  },
  {
   "cell_type": "raw",
   "metadata": {},
   "source": [
    "Q6.After making changes to an Image object, how could you save it as an image file?"
   ]
  },
  {
   "cell_type": "code",
   "execution_count": null,
   "metadata": {},
   "outputs": [],
   "source": [
    "sol.After making changes to an Image object we can save it as an image file by calling save() directly on the Image object."
   ]
  },
  {
   "cell_type": "raw",
   "metadata": {},
   "source": [
    "Q7.What module contains Pillow’s shape-drawing code?"
   ]
  },
  {
   "cell_type": "code",
   "execution_count": null,
   "metadata": {},
   "outputs": [],
   "source": [
    "sol.ImageDraw module contains Pillow’s shape-drawing code."
   ]
  },
  {
   "cell_type": "markdown",
   "metadata": {},
   "source": [
    "Q8.Image objects do not have drawing methods. What kind of object does? How do you get this kind of object?"
   ]
  },
  {
   "cell_type": "markdown",
   "metadata": {},
   "source": [
    "sol.ImageDraw object have drawing method.We will use ImageDraw.Draw() to get an ImageDraw object."
   ]
  }
 ],
 "metadata": {
  "kernelspec": {
   "display_name": "Python 3",
   "language": "python",
   "name": "python3"
  },
  "language_info": {
   "codemirror_mode": {
    "name": "ipython",
    "version": 3
   },
   "file_extension": ".py",
   "mimetype": "text/x-python",
   "name": "python",
   "nbconvert_exporter": "python",
   "pygments_lexer": "ipython3",
   "version": "3.8.5"
  }
 },
 "nbformat": 4,
 "nbformat_minor": 4
}
