{
 "cells": [
  {
   "cell_type": "raw",
   "metadata": {},
   "source": [
    "Q1.What does an empty dictionary's code look like?\n",
    "sol.Two curly brackets: {}"
   ]
  },
  {
   "cell_type": "raw",
   "metadata": {},
   "source": [
    "Q2.What is the value of a dictionary value with the key 'foo' and the value 42?\n",
    "sol.{\"foo\":42}\n",
    "    "
   ]
  },
  {
   "cell_type": "raw",
   "metadata": {},
   "source": [
    "Q3.What is the most significant distinction between a dictionary and a list?\n",
    "sol.A list is an ordered sequence of objects, whereas dictionaries are unordered sets.However,the main difference is that          items in dictionaries are accessed via keys and not via their position.The values of a dictionary can be any type of            Python data.So,dictionaries are unordered key-value-pairs."
   ]
  },
  {
   "cell_type": "raw",
   "metadata": {},
   "source": [
    "Q4.What happens if you try to access spam['foo'] if spam is {'bar': 100}?\n",
    "sol.It will give KeyError error"
   ]
  },
  {
   "cell_type": "raw",
   "metadata": {},
   "source": [
    "Q5.If a dictionary is stored in spam, what is the difference between the expressions 'cat' in spam and 'cat' in spam.keys()?\n",
    "sol.There is no difference.The in operator checks whether a value exists as a key in the dictionary."
   ]
  },
  {
   "cell_type": "raw",
   "metadata": {},
   "source": [
    "Q6.If a dictionary is stored in spam, what is the difference between the expressions 'cat' in spam and 'cat' in spam.values()?\n",
    "sol.cat'in spam checks whether there is a 'cat' key in the dictionary, while 'cat' in spam.values() checks whether there is a       value 'cat' for one of the keys in spam."
   ]
  },
  {
   "cell_type": "raw",
   "metadata": {},
   "source": [
    "Q7.What is a shortcut for the following code?\n",
    "   if 'color' not in spam:\n",
    "   spam['color'] = 'black'\n",
    "sol.spam.setdefault('color', 'black')"
   ]
  },
  {
   "cell_type": "raw",
   "metadata": {},
   "source": [
    "Q8.How do you \"pretty print\" dictionary values using which module and function?\n",
    "sol.pprint.pprint()\n"
   ]
  }
 ],
 "metadata": {
  "kernelspec": {
   "display_name": "Python 3",
   "language": "python",
   "name": "python3"
  },
  "language_info": {
   "codemirror_mode": {
    "name": "ipython",
    "version": 3
   },
   "file_extension": ".py",
   "mimetype": "text/x-python",
   "name": "python",
   "nbconvert_exporter": "python",
   "pygments_lexer": "ipython3",
   "version": "3.8.5"
  }
 },
 "nbformat": 4,
 "nbformat_minor": 4
}
