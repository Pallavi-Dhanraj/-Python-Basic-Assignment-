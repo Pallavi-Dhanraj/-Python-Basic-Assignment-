{
 "cells": [
  {
   "cell_type": "markdown",
   "metadata": {},
   "source": [
    "Q1.In what modes should the PdfFileReader() and PdfFileWriter() File objects will be opened?"
   ]
  },
  {
   "cell_type": "markdown",
   "metadata": {},
   "source": [
    "sol.PdfFileReader() needs to be opened in read-binary mode by passing 'rb' as the second argument to open(). PdfFileWriter()         needs to be opened in write-binary mode with 'wb'."
   ]
  },
  {
   "cell_type": "markdown",
   "metadata": {},
   "source": [
    "Q2.From a PdfFileReader object, how do you get a Page object for page 5?"
   ]
  },
  {
   "cell_type": "markdown",
   "metadata": {},
   "source": [
    "sol.To extract text from a page, you need to get a Page object, which represents a single page of a PDF, from a PdfFileReader       object. You can get a Page object by calling the getPage() method on a PdfFileReader object and passing it the page             number of the page you're interested in —in our case it is getPage(4)."
   ]
  },
  {
   "cell_type": "markdown",
   "metadata": {},
   "source": [
    "Q3.What PdfFileReader variable stores the number of pages in the PDF document?"
   ]
  },
  {
   "cell_type": "markdown",
   "metadata": {},
   "source": [
    "sol.The total number of pages in the document is stored in the numPages attribute of a PdfFileReader object ."
   ]
  },
  {
   "cell_type": "markdown",
   "metadata": {},
   "source": [
    "Q4.If a PdfFileReader object’s PDF is encrypted with the password swordfish, what must you do before you can obtain Page objects    from it?"
   ]
  },
  {
   "cell_type": "markdown",
   "metadata": {},
   "source": [
    "sol.To read an encrypted PDF, call the decrypt() function and pass the password as a string before obtain Page objects.In our       case decrypt function call like this pdfReader.decrypt('swordfish') to read an encrypted PDF."
   ]
  },
  {
   "cell_type": "markdown",
   "metadata": {},
   "source": [
    "Q5.What methods do you use to rotate a page?"
   ]
  },
  {
   "cell_type": "markdown",
   "metadata": {},
   "source": [
    "sol.The pages of a PDF can also be rotated in 90-degree increments with the rotateClockwise() and rotateCounterClockwise()           methods."
   ]
  },
  {
   "cell_type": "markdown",
   "metadata": {},
   "source": [
    "Q6.What is the difference between a Run object and a Paragraph object?"
   ]
  },
  {
   "cell_type": "markdown",
   "metadata": {},
   "source": [
    "sol The Document object contains a list of Paragraph objects for the paragraphs in the document.Each of these Paragraph objects     contains a list of one or more Run objects. ."
   ]
  },
  {
   "cell_type": "markdown",
   "metadata": {},
   "source": [
    "Q7.How do you obtain a list of Paragraph objects for a Document object that’s stored in a variable named doc?"
   ]
  },
  {
   "cell_type": "markdown",
   "metadata": {},
   "source": [
    "sol.len(doc.paragraphs)"
   ]
  },
  {
   "cell_type": "markdown",
   "metadata": {},
   "source": [
    "Q8.What type of object has bold, underline, italic, strike, and outline variables?"
   ]
  },
  {
   "cell_type": "markdown",
   "metadata": {},
   "source": [
    "sol.run object"
   ]
  },
  {
   "cell_type": "markdown",
   "metadata": {},
   "source": [
    "Q9.What is the difference between False, True, and None for the bold variable?"
   ]
  },
  {
   "cell_type": "markdown",
   "metadata": {},
   "source": [
    "sol.True :the attribute is always enabled, no matter what other styles are applied to the run. \n",
    "    False:the attribute is always disabled.\n",
    "    None:defaults to whatever the run’s style is set to."
   ]
  },
  {
   "cell_type": "markdown",
   "metadata": {},
   "source": [
    "Q10.How do you create a Document object for a new Word document?"
   ]
  },
  {
   "cell_type": "markdown",
   "metadata": {},
   "source": [
    "sol.To create new .docx file, call docx.Document() to return a new, blank Word Document object."
   ]
  },
  {
   "cell_type": "markdown",
   "metadata": {},
   "source": [
    "Q11.How do you add a paragraph with the text 'Hello, there!' to a Document object stored in a variable named doc?"
   ]
  },
  {
   "cell_type": "markdown",
   "metadata": {},
   "source": [
    "sol.doc.add_paragraph('Hello, there!')"
   ]
  },
  {
   "cell_type": "markdown",
   "metadata": {},
   "source": [
    "Q12.What integers represent the levels of headings available in Word documents?"
   ]
  },
  {
   "cell_type": "markdown",
   "metadata": {},
   "source": [
    "sol.Integers 1 to 4 are for various heading levels."
   ]
  }
 ],
 "metadata": {
  "kernelspec": {
   "display_name": "Python 3",
   "language": "python",
   "name": "python3"
  },
  "language_info": {
   "codemirror_mode": {
    "name": "ipython",
    "version": 3
   },
   "file_extension": ".py",
   "mimetype": "text/x-python",
   "name": "python",
   "nbconvert_exporter": "python",
   "pygments_lexer": "ipython3",
   "version": "3.8.5"
  }
 },
 "nbformat": 4,
 "nbformat_minor": 4
}
