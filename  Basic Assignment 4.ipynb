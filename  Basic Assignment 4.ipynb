{
 "cells": [
  {
   "cell_type": "raw",
   "metadata": {},
   "source": [
    "Q1.What exactly is []?\n",
    "sol.[] is the empty list value, which is a list value that contains no items. This is similar to how is the empty string value."
   ]
  },
  {
   "cell_type": "raw",
   "metadata": {},
   "source": [
    "Q2.In a list of values stored in a variable called spam, how would you assign the value 'hello' as the third value? \n",
    "   (Assume [2,4,6,8,10] are in spam.)\n",
    "sol.Spam=[2,4,6,8,10]\n",
    "    Spam.insert(2,\"hello\")\n"
   ]
  },
  {
   "cell_type": "raw",
   "metadata": {},
   "source": [
    "Let's pretend the spam includes the list ['a', 'b', 'c', 'd'] for the next three queries."
   ]
  },
  {
   "cell_type": "raw",
   "metadata": {},
   "source": [
    "Q3.What is the value of spam[int(int('3' * 2) / 11)]?\n",
    "sol.'d'"
   ]
  },
  {
   "cell_type": "raw",
   "metadata": {},
   "source": [
    "Q4.What is the value of spam[-1]?\n",
    "sol.'d'"
   ]
  },
  {
   "cell_type": "raw",
   "metadata": {},
   "source": [
    "Q5.What is the value of spam[:2]?\n",
    "sol.['a', 'b']"
   ]
  },
  {
   "cell_type": "raw",
   "metadata": {},
   "source": [
    "Let's pretend bacon has the list [3.14, 'cat,' 11, 'cat,' True] for the next three questions."
   ]
  },
  {
   "cell_type": "raw",
   "metadata": {},
   "source": [
    "Q6. What is the value of bacon.index('cat')?\n",
    "sol.1"
   ]
  },
  {
   "cell_type": "raw",
   "metadata": {},
   "source": [
    "Q7.How does bacon.append(99) change the look of the list value in bacon?\n",
    "sol.bacon = [3.14, 'cat', 11, 'cat', True, 99]"
   ]
  },
  {
   "cell_type": "raw",
   "metadata": {},
   "source": [
    "Q8.How does bacon.remove('cat') change the look of the list in bacon?\n",
    "sol.bacon = [3.14, 11, 'cat', True]"
   ]
  },
  {
   "cell_type": "raw",
   "metadata": {},
   "source": [
    "Q9.What are the list concatenation and list replication operators?\n",
    "sol.The operator for list concatenation is +, while the operator for replication is *."
   ]
  },
  {
   "cell_type": "raw",
   "metadata": {},
   "source": [
    "Q10. What is difference between the list methods append() and insert()?\n",
    "sol.The difference is that with append, we just add a new entry at the end of the list. With insert(position, new_entry) we         can create a new entry exactly in the position we want."
   ]
  },
  {
   "cell_type": "raw",
   "metadata": {},
   "source": [
    "Q11.What are the two methods for removing items from a list?\n",
    "sol.The methods are remove(), pop(). It helps to remove the very first given element matching from the list. The pop() method       removes an element from the list based on the index given."
   ]
  },
  {
   "cell_type": "raw",
   "metadata": {},
   "source": [
    "Q12.Describe how list values and string values are identical.\n",
    "sol.Both lists and strings can be passed to len(), have indexes and slices, be used in for loops, be concatenated or               replicated, and be used with the in and not in operators."
   ]
  },
  {
   "cell_type": "raw",
   "metadata": {},
   "source": [
    "Q13.What's the difference between tuples and lists?\n",
    "sol.Lists are mutable; they can have values added, removed, or changed. Tuples are immutable; they cannot be changed at all.       Also, tuples are written using parentheses, (), while lists use the square brackets, []."
   ]
  },
  {
   "cell_type": "raw",
   "metadata": {},
   "source": [
    "Q14.How do you type a tuple value that only contains the integer 42?\n",
    "sol.tuple = (42,)"
   ]
  },
  {
   "cell_type": "raw",
   "metadata": {},
   "source": [
    "Q15.How do you get a list value's tuple form? How do you get a tuple value's list form?\n",
    "sol.The tuple() and list() functions, respectively"
   ]
  },
  {
   "cell_type": "raw",
   "metadata": {},
   "source": [
    "Q16.Variables that \"contain\" list values are not necessarily lists themselves. Instead, what do they contain?\n",
    "sol.They contain references to list values."
   ]
  },
  {
   "cell_type": "raw",
   "metadata": {},
   "source": [
    "Q17.How do you distinguish between copy.copy() and copy.deepcopy()?\n",
    "sol.The copy.copy() function will do a shallow copy of a list, while the copy.deepcopy() function will do a deep copy of a         list. That is, only copy.deepcopy() will duplicate any lists inside the list."
   ]
  }
 ],
 "metadata": {
  "kernelspec": {
   "display_name": "Python 3",
   "language": "python",
   "name": "python3"
  },
  "language_info": {
   "codemirror_mode": {
    "name": "ipython",
    "version": 3
   },
   "file_extension": ".py",
   "mimetype": "text/x-python",
   "name": "python",
   "nbconvert_exporter": "python",
   "pygments_lexer": "ipython3",
   "version": "3.8.5"
  }
 },
 "nbformat": 4,
 "nbformat_minor": 4
}
